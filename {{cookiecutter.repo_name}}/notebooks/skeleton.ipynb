{
 "cells": [
  {
   "cell_type": "markdown",
   "metadata": {},
   "source": [
    "<div style='font-size:200%;font-weight:bold'>Title</div><br>\n",
    "\n",
    "This skeleton notebook intends to be a one-stop-shop reference of the structure and stanzas to\n",
    "improve the readability, presentability, and stylistic aspect of your notebooks.\n",
    "\n",
    "**NOTE:**\n",
    "- The title is a styled sentence rather than `h1`, to prevent it being showed and numbered in TOC.\n",
    "- As of this commit, do expect mis-formatting on github as it seems that its renderer may note be\n",
    "  100% faithful to Jupyter Lab.\n",
    "\n",
    "<div style='color:firebrick'><b>NOTE:</b> this skeleton notebook is primarily for reading. To run it\n",
    "completely, you need to install additional dependencies imported in the cell below.</div><br>"
   ]
  },
  {
   "cell_type": "code",
   "execution_count": null,
   "metadata": {},
   "outputs": [],
   "source": [
    "%matplotlib inline\n",
    "%config InlineBackend.figure_format = 'retina'\n",
    "%load_ext autoreload\n",
    "%autoreload 2\n",
    "\n",
    "# Follow isort>=5 style: 'import ...' statements before 'from ... import ...'.\n",
    "import pandas as pd\n",
    "from IPython.display import Markdown\n",
    "from smallmatter.ds import mask_df  # See: https://github.com/aws-samples/smallmatter-package/\n",
    "\n",
    "# A few standard SageMaker's stanzas. Use type annotation to be verbose.\n",
    "import sagemaker as sm\n",
    "role: str = sm.get_execution_role()\n",
    "sess = sm.Session()\n",
    "region: str = sess.boto_session.region_name"
   ]
  },
  {
   "cell_type": "markdown",
   "metadata": {},
   "source": [
    "# Global setup\n",
    "\n",
    "<details><summary style=\"font-size:60%\">Note on heading</summary>\n",
    "\n",
    "> This section starts with an `h1` heading. Thus, it will appears in the TOC as \"*1. Global setup*\".\n",
    ">\n",
    "> Do add a blank line before the closing details tag, otherwise github won't collapse this portion.\n",
    "\n",
    "</details><br>\n",
    "\n",
    "\n",
    "This section contains Python variables that should be personalized such as:\n",
    "- the name of Amazon S3 bucket and/or prefix may vary from one project member to another.\n",
    "- the filename of the dataset to run.\n",
    "\n",
    "We also show a pattern to automatically synchronize the Python variable to environment variables.\n",
    "The idea is to centralized all changes to only this section, then you can safely run the remaining\n",
    "cells without having to worry about outdated hardcoded values in the Python, `!`, and `%%` codes."
   ]
  },
  {
   "cell_type": "code",
   "execution_count": null,
   "metadata": {},
   "outputs": [],
   "source": [
    "####################################################################################################\n",
    "# Change me\n",
    "####################################################################################################\n",
    "bucket_name = 'my-bucket-name'\n",
    "prefix_name = 'some/prefix'\n",
    "####################################################################################################\n",
    "\n",
    "\n",
    "####################################################################################################\n",
    "# Do not change the next lines, as they're derived and will be recomputed automatically.\n",
    "####################################################################################################\n",
    "s3_prefix = f's3://{bucket_name}/{prefix_name}'.rstrip('/')\n",
    "\n",
    "# Synchronize Python variable and environment variable.\n",
    "%set_env S3_PREFIX=$s3_prefix\n",
    "%env S3_PREFIX_CELL_SCOPE=$s3_prefix\n",
    "\n",
    "# Demonstrate the difference between %env and %set_env.\n",
    "!echo $S3_PREFIX_CELL_SCOPE  # Should print s3://my-bucket-name/some/prefix\n",
    "!echo $S3_PREFIX             # Should print s3://my-bucket-name/some/prefix"
   ]
  },
  {
   "cell_type": "code",
   "execution_count": null,
   "metadata": {},
   "outputs": [],
   "source": [
    "# Demonstrate the difference between %env and %set_env\n",
    "!echo $S3_PREFIX             # Should print s3://my-bucket-name/some/prefix\n",
    "!echo $S3_PREFIX_CELL_SCOPE  # Should print an empty string"
   ]
  },
  {
   "cell_type": "markdown",
   "metadata": {},
   "source": [
    "Next is a raw cell. Do note that github renderer is broken for raw cell, hence it won't be shown\n",
    "correctly on github."
   ]
  },
  {
   "cell_type": "raw",
   "metadata": {},
   "source": [
    "####################################################################################################\n",
    "# Demonstrate the benefit of avoiding hardcoding as much as possible.\n",
    "# This cell is marked as raw to make sure that content shall never be run accidentally.\n",
    "####################################################################################################\n",
    "\n",
    "# Whenever `bucket_name` and `prefix_name` are updated (i.e., variables are changed and their cell\n",
    "# are executed), the next CLI is guaranteed to always list the updated Amazon S3 prefix.\n",
    "!aws s3 ls --recursive $S3_PREFIX/\n",
    "\n",
    "\n",
    "# SEGWAY: since we're talking about aws-cli, here're a few tricks to read Amazon S3 files without\n",
    "#         having to first download and save those files to your local filesystem.\n",
    "\n",
    "# Show the first few rows of a file in Amazon S3. NOTE: you can safely ignore the broken pipe error.\n",
    "!aws s3 cp $S3_PREFIX/haha.txt - | head  \n",
    "\n",
    "# List files in an archive\n",
    "!aws s3 cp $S3_PREFIX/model.tar.gz - | tar -tzvf -"
   ]
  },
  {
   "cell_type": "markdown",
   "metadata": {},
   "source": [
    "# Improved output"
   ]
  },
  {
   "cell_type": "code",
   "execution_count": null,
   "metadata": {},
   "outputs": [
    {
     "data": {
      "text/markdown": [
       "## Plain dataframe\n",
       "**NOTE:** this also appears in TOC as \"*2.1. Plain dataframe*\""
      ],
      "text/plain": [
       "<IPython.core.display.Markdown object>"
      ]
     },
     "metadata": {},
     "output_type": "display_data"
    },
    {
     "data": {
      "text/html": [
       "<div>\n",
       "<style scoped>\n",
       "    .dataframe tbody tr th:only-of-type {\n",
       "        vertical-align: middle;\n",
       "    }\n",
       "\n",
       "    .dataframe tbody tr th {\n",
       "        vertical-align: top;\n",
       "    }\n",
       "\n",
       "    .dataframe thead th {\n",
       "        text-align: right;\n",
       "    }\n",
       "</style>\n",
       "<table border=\"1\" class=\"dataframe\">\n",
       "  <thead>\n",
       "    <tr style=\"text-align: right;\">\n",
       "      <th></th>\n",
       "      <th>a</th>\n",
       "      <th>b</th>\n",
       "    </tr>\n",
       "  </thead>\n",
       "  <tbody>\n",
       "    <tr>\n",
       "      <th>0</th>\n",
       "      <td>1</td>\n",
       "      <td>4</td>\n",
       "    </tr>\n",
       "    <tr>\n",
       "      <th>1</th>\n",
       "      <td>2</td>\n",
       "      <td>5</td>\n",
       "    </tr>\n",
       "    <tr>\n",
       "      <th>2</th>\n",
       "      <td>3</td>\n",
       "      <td>6</td>\n",
       "    </tr>\n",
       "  </tbody>\n",
       "</table>\n",
       "</div>"
      ],
      "text/plain": [
       "   a  b\n",
       "0  1  4\n",
       "1  2  5\n",
       "2  3  6"
      ]
     },
     "metadata": {},
     "output_type": "display_data"
    },
    {
     "data": {
      "text/markdown": [
       "## Masked dataframe\n",
       "Sometime, we would like to version the output of this cell into the git repo, to help readers to\n",
       "quickly see the shape of a dataframe.\n",
       "\n",
       "However, when the dataframe contains sensitive values, care must be taken to\n",
       "**<font style='color:firebrick;background-color:yellow'>NEVER</font>** version these values to git.\n",
       "Otherwise, as you all know, once checked into the git history, it can be tedious and challenging to\n",
       "undo the versioning.\n"
      ],
      "text/plain": [
       "<IPython.core.display.Markdown object>"
      ]
     },
     "metadata": {},
     "output_type": "display_data"
    },
    {
     "data": {
      "text/html": [
       "<div>\n",
       "<style scoped>\n",
       "    .dataframe tbody tr th:only-of-type {\n",
       "        vertical-align: middle;\n",
       "    }\n",
       "\n",
       "    .dataframe tbody tr th {\n",
       "        vertical-align: top;\n",
       "    }\n",
       "\n",
       "    .dataframe thead th {\n",
       "        text-align: right;\n",
       "    }\n",
       "</style>\n",
       "<table border=\"1\" class=\"dataframe\">\n",
       "  <thead>\n",
       "    <tr style=\"text-align: right;\">\n",
       "      <th></th>\n",
       "      <th>userid</th>\n",
       "      <th>pca_a</th>\n",
       "      <th>pca_b</th>\n",
       "    </tr>\n",
       "  </thead>\n",
       "  <tbody>\n",
       "    <tr>\n",
       "      <th>0</th>\n",
       "      <td>xxx</td>\n",
       "      <td>0.1</td>\n",
       "      <td>-0.30</td>\n",
       "    </tr>\n",
       "    <tr>\n",
       "      <th>1</th>\n",
       "      <td>xxx</td>\n",
       "      <td>0.2</td>\n",
       "      <td>0.01</td>\n",
       "    </tr>\n",
       "    <tr>\n",
       "      <th>2</th>\n",
       "      <td>xxx</td>\n",
       "      <td>0.3</td>\n",
       "      <td>0.70</td>\n",
       "    </tr>\n",
       "  </tbody>\n",
       "</table>\n",
       "</div>"
      ],
      "text/plain": [
       "  userid  pca_a  pca_b\n",
       "0    xxx    0.1  -0.30\n",
       "1    xxx    0.2   0.01\n",
       "2    xxx    0.3   0.70"
      ]
     },
     "metadata": {},
     "output_type": "display_data"
    }
   ],
   "source": [
    "def mask_userid(df: pd.DataFrame) -> pd.DataFrame:\n",
    "    return mask_df(df, cols=['userid'])\n",
    "\n",
    "df_a = pd.DataFrame({'a': [1,2,3], 'b': [4,5,6]})\n",
    "df_b = pd.DataFrame({\n",
    "            'userid': [1000,2000,3000],\n",
    "            'pca_a': [0.1, 0.2, 0.3],\n",
    "            'pca_b': [-0.3, 0.01, 0.7]\n",
    "       })\n",
    "\n",
    "display(\n",
    "    Markdown('## Plain dataframe\\n**NOTE:** this also appears in TOC as \"*2.1. Plain dataframe*\"'),\n",
    "    df_a,\n",
    "\n",
    "    Markdown('''## Masked dataframe\n",
    "Sometime, we would like to version the output of this cell into the git repo, to help readers to\n",
    "quickly see the shape of a dataframe.\n",
    "\n",
    "However, when the dataframe contains sensitive values, care must be taken to\n",
    "**<font style='color:firebrick;background-color:yellow'>NEVER</font>** version these values to git.\n",
    "Otherwise, as you all know, once checked into the git history, it can be tedious and challenging to\n",
    "undo the versioning.\n",
    "'''\n",
    "    ),\n",
    "    mask_userid(df_b),\n",
    "\n",
    ")"
   ]
  },
  {
   "cell_type": "markdown",
   "metadata": {},
   "source": [
    "# Summary\n",
    "\n",
    "When this notebook should be versioned without output, do a *Clear All Outputs*.\n",
    "\n",
    "When there're output to be version (like what this skeleton notebook does), consider to remove the\n",
    "cell counts.\n",
    "\n",
    "<details><summary style=\"font-size:60%\">Footnote</summary>\n",
    "\n",
    "> This skeleton notebook was ran through the [clr-nb-xcnt.sh](https://github.com/verdimrc/pyutil/blob/master/bin/clr-nb-xcnt.sh) bash script to clear its cell\n",
    "> counts. DISCLAIMER: the script is provided on an \"AS IS\" BASIS, WITHOUT WARRANTIES OR CONDITIONS\n",
    "> OF ANY KIND, either express or implied, including, without limitation, any warranties or\n",
    "> conditions of TITLE, NON-INFRINGEMENT, MERCHANTABILITY, or FITNESS FOR A PARTICULAR PURPOSE. You\n",
    "> are solely responsible for determining the appropriateness of using or redistributing the Work and\n",
    "> assume any risks associated with Your exercise of permissions under this Apache License 2.0.\n",
    "\n",
    "</details><br>\n"
   ]
  },
  {
   "cell_type": "code",
   "execution_count": null,
   "metadata": {},
   "outputs": [],
   "source": []
  }
 ],
 "metadata": {
  "kernelspec": {
   "display_name": "Environment (virtualenv_p39x)",
   "language": "python",
   "name": "virtualenv_p39x"
  },
  "language_info": {
   "codemirror_mode": {
    "name": "ipython",
    "version": 3
   },
   "file_extension": ".py",
   "mimetype": "text/x-python",
   "name": "python",
   "nbconvert_exporter": "python",
   "pygments_lexer": "ipython3",
   "version": "3.9.2"
  },
  "toc-autonumbering": true,
  "toc-showcode": false,
  "toc-showmarkdowntxt": false,
  "toc-showtags": false
 },
 "nbformat": 4,
 "nbformat_minor": 4
}

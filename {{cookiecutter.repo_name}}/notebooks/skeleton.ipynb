{
 "cells": [
  {
   "cell_type": "markdown",
   "metadata": {},
   "source": [
    "This notebook demonstrates a few useful stanzas."
   ]
  },
  {
   "cell_type": "code",
   "execution_count": null,
   "metadata": {},
   "outputs": [],
   "source": [
    "%matplotlib inline\n",
    "%config InlineBackend.figure_format = 'retina'\n",
    "%load_ext autoreload\n",
    "%autoreload 2\n",
    "\n",
    "# A few standard SageMaker's stanzas\n",
    "import sagemaker as sm\n",
    "role: str = sm.get_execution_role()\n",
    "sess = sm.Session()\n",
    "region: str = sess.boto_session.region_name"
   ]
  },
  {
   "cell_type": "code",
   "execution_count": null,
   "metadata": {},
   "outputs": [],
   "source": [
    "# Synchronize Python variable and environment variable\n",
    "var_name = 1234\n",
    "%set_env VAR_NAME=$var_name\n",
    "%env VAR_NAME_THIS_CELL_ONLY=$var_name\n",
    "\n",
    "!echo $VAR_NAME_CELL_SCOPE  # Should print 1234\n",
    "!echo $VAR_NAME             # Should print 1234"
   ]
  },
  {
   "cell_type": "code",
   "execution_count": null,
   "metadata": {},
   "outputs": [],
   "source": [
    "# Demonstrate notebook- vs cell-scoped environment variables.\n",
    "!echo $VAR_NAME             # Should print 1234\n",
    "!echo $VAR_NAME_CELL_SCOPE  # Should print an empty string"
   ]
  }
 ],
 "metadata": {
  "kernelspec": {
   "display_name": "Python 3",
   "language": "python",
   "name": "python3"
  },
  "language_info": {
   "codemirror_mode": {
    "name": "ipython",
    "version": 3
   },
   "file_extension": ".py",
   "mimetype": "text/x-python",
   "name": "python",
   "nbconvert_exporter": "python",
   "pygments_lexer": "ipython3",
   "version": "3.9.2-final"
  }
 },
 "nbformat": 4,
 "nbformat_minor": 4
}
